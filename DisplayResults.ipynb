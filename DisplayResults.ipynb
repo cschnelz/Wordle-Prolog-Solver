{
  "nbformat": 4,
  "nbformat_minor": 0,
  "metadata": {
    "colab": {
      "name": "DisplayResults.ipynb",
      "provenance": [],
      "toc_visible": true
    },
    "kernelspec": {
      "name": "python3",
      "display_name": "Python 3"
    },
    "language_info": {
      "name": "python"
    }
  },
  "cells": [
    {
      "cell_type": "code",
      "source": [
        "import numpy as np\n",
        "import pandas as pd\n",
        "import matplotlib.pyplot as plt\n",
        "%matplotlib inline\n",
        "\n",
        "# SETUP: change this to your local machine or drive\n",
        "# patterns = pd.read_csv('https://raw.githubusercontent.com/cschnelz/Wordle-Prolog-Solver/main/test.csv?token=GHSAT0AAAAAABQPGZRGORP77IZJAX3UO6PSYRSWJPA')\n",
        "def get_df():\n",
        "  df = pd.read_csv('/content/drive/MyDrive/CSC481/trace.txt', dtype='string')\n",
        "  return df\n",
        "\n",
        "# ax = df.plot.bar(x='lab', y='val', rot=0)\n",
        "\n",
        "def plot_and_show_top():\n",
        "  df = get_df()\n",
        "  df['freq'] = df['freq'].astype(int)\n",
        "  df = df.sort_values(by='freq', ascending=False)\n",
        "  df.plot.bar(x='pattern', y='freq', rot=0).get_xaxis().set_visible(False)\n",
        "  df = df.set_index('pattern')\n",
        "  print(df[0:4])\n",
        "\n",
        "\n",
        "plot_and_show_top()\n",
        "\n",
        "\n"
      ],
      "metadata": {
        "colab": {
          "base_uri": "https://localhost:8080/",
          "height": 358
        },
        "id": "GFZmDueBCCm-",
        "outputId": "64bfc776-63e3-438e-babd-a43007de4c41"
      },
      "execution_count": 101,
      "outputs": [
        {
          "output_type": "stream",
          "name": "stdout",
          "text": [
            "         freq\n",
            "pattern      \n",
            "00000    1558\n",
            "01000    1223\n",
            "00010    1113\n",
            "00100     589\n"
          ]
        },
        {
          "output_type": "display_data",
          "data": {
            "text/plain": [
              "<Figure size 432x288 with 1 Axes>"
            ],
            "image/png": "[encoded data removed]"
          },
          "metadata": {
            "needs_background": "light"
          }
        }
      ]
    }
  ]
}